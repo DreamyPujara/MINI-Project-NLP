{
  "nbformat": 4,
  "nbformat_minor": 0,
  "metadata": {
    "colab": {
      "provenance": []
    },
    "kernelspec": {
      "name": "python3",
      "display_name": "Python 3"
    },
    "language_info": {
      "name": "python"
    }
  },
  "cells": [
    {
      "cell_type": "code",
      "execution_count": 4,
      "metadata": {
        "id": "0ykQ6vfD13v-"
      },
      "outputs": [],
      "source": [
        "import requests\n",
        "from bs4 import BeautifulSoup\n",
        "\n",
        "# URL of the Wikipedia page to scrape\n",
        "url = \"https://en.wikipedia.org/wiki/Economic_development_in_India\"\n",
        "\n",
        "# Send a GET request to the URL and store the HTML response\n",
        "response = requests.get(url)\n",
        "\n",
        "# Create a BeautifulSoup object to parse the HTML\n",
        "soup = BeautifulSoup(response.content, \"html.parser\")\n",
        "\n",
        "# Find the main content section of the page\n",
        "content = soup.find(\"div\", class_=\"mw-parser-output\")\n",
        "\n",
        "# Extract the text from the content section\n",
        "text = content.get_text()\n",
        "\n",
        "# Save the text to a file\n",
        "with open(\"train.txt\", \"a\") as file:\n",
        "    file.write(text)\n"
      ]
    },
    {
      "cell_type": "code",
      "source": [],
      "metadata": {
        "id": "Q7C3FLs91-d1"
      },
      "execution_count": 1,
      "outputs": []
    }
  ]
}