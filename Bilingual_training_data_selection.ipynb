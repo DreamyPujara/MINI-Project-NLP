{
  "nbformat": 4,
  "nbformat_minor": 0,
  "metadata": {
    "colab": {
      "provenance": []
    },
    "kernelspec": {
      "name": "python3",
      "display_name": "Python 3"
    },
    "language_info": {
      "name": "python"
    }
  },
  "cells": [
    {
      "cell_type": "code",
      "execution_count": 1,
      "metadata": {
        "id": "bCp_P_40LE3U"
      },
      "outputs": [],
      "source": [
        "import random\n",
        "\n",
        "# Load the parallel corpus\n",
        "with open('/content/drive/MyDrive/fr-en/europarl-v7.fr-en.fr', 'r') as f:\n",
        "    de_data = f.readlines()\n",
        "with open('/content/drive/MyDrive/fr-en/europarl-v7.fr-en.en', 'r') as f:\n",
        "    en_data = f.readlines()\n",
        "\n",
        "# Combine the German and English data into parallel examples\n",
        "examples = list(zip(de_data, en_data))\n",
        "\n",
        "# Shuffle the examples\n",
        "random.shuffle(examples)\n",
        "\n",
        "# Select a subset of the examples\n",
        "num_examples = 10000\n",
        "selected_examples = examples[:num_examples]\n",
        "\n",
        "# Split the selected examples into separate German and English files\n",
        "with open('selected_de_data.txt', 'w') as f:\n",
        "    for example in selected_examples:\n",
        "        f.write(example[0])\n",
        "with open('selected_en_data.txt', 'w') as f:\n",
        "    for example in selected_examples:\n",
        "        f.write(example[1])\n"
      ]
    },
    {
      "cell_type": "code",
      "source": [
        "import torch\n",
        "import torch.nn as nn\n",
        "import torch.optim as optim\n",
        "import torch.nn.functional as F\n",
        "from torch.utils.data import DataLoader, Dataset\n",
        "\n",
        "class Seq2Seq(nn.Module):\n",
        "    def __init__(self, input_size, hidden_size, output_size):\n",
        "        super(Seq2Seq, self).__init__()\n",
        "        self.encoder = nn.Embedding(input_size, hidden_size)\n",
        "        self.decoder = nn.LSTM(hidden_size, hidden_size)\n",
        "        self.fc = nn.Linear(hidden_size, output_size)\n",
        "\n",
        "    def forward(self, src, trg):\n",
        "        embedded = self.encoder(src)\n",
        "        output, (hidden, cell) = self.decoder(embedded)\n",
        "        prediction = self.fc(hidden.squeeze(0))\n",
        "        return prediction\n",
        "\n",
        "import torchtext\n",
        "\n",
        "src_field = torchtext.data.Field(init_token='<sos>', eos_token='<eos>', lower=True)\n",
        "tgt_field = torchtext.data.Field(init_token='<sos>', eos_token='<eos>', lower=True)\n",
        "\n",
        "train_data, val_data, test_data = torchtext.datasets.Multi30k.splits(exts=('.de', '.en'), fields=(src_field, tgt_field))\n",
        "\n",
        "src_field.build_vocab(train_data.src, min_freq=2)\n",
        "tgt_field.build_vocab(train_data.tgt, min_freq=2)\n",
        "\n",
        "src_vocab = src_field.vocab\n",
        "tgt_vocab = tgt_field.vocab\n",
        "\n",
        "\n",
        "# Define the model\n",
        "INPUT_DIM = len(src_vocab)\n",
        "OUTPUT_DIM = len(trg_vocab)\n",
        "HIDDEN_DIM = 256\n",
        "model = Seq2Seq(INPUT_DIM, HIDDEN_DIM, OUTPUT_DIM)\n",
        "\n",
        "# Define the optimizer and loss function\n",
        "optimizer = optim.Adam(model.parameters(), lr=0.001)\n",
        "criterion = nn.CrossEntropyLoss(ignore_index=trg_vocab['<pad>'])\n",
        "\n",
        "# Define the training loop\n",
        "def train(model, iterator, optimizer, criterion):\n",
        "    model.train()\n",
        "    epoch_loss = 0\n",
        "    for i, batch in enumerate(iterator):\n",
        "        src = batch.src\n",
        "        trg = batch.trg\n",
        "        optimizer.zero_grad()\n",
        "        output = model(src, trg[:-1])\n",
        "        output_dim = output.shape[-1]\n",
        "        output = output.view(-1, output_dim)\n",
        "        trg = trg[1:].view(-1)\n",
        "        loss = criterion(output, trg)\n",
        "        loss.backward()\n",
        "        optimizer.step()\n",
        "        epoch_loss += loss.item()\n",
        "    return epoch_loss / len(iterator)\n",
        "\n",
        "# Train the model\n",
        "BATCH_SIZE = 64\n",
        "train_iterator = DataLoader(train_data, batch_size=BATCH_SIZE, shuffle=True)\n",
        "for epoch in range(10):\n",
        "    train_loss = train(model, train_iterator, optimizer, criterion)\n",
        "    print('Epoch: {}, Train Loss: {}'.format(epoch, train_loss))\n"
      ],
      "metadata": {
        "colab": {
          "base_uri": "https://localhost:8080/",
          "height": 246
        },
        "id": "czQKmV_XLgMy",
        "outputId": "dbf32556-a1f8-446f-f679-8b8239f40cb2"
      },
      "execution_count": 3,
      "outputs": [
        {
          "output_type": "error",
          "ename": "AttributeError",
          "evalue": "ignored",
          "traceback": [
            "\u001b[0;31m---------------------------------------------------------------------------\u001b[0m",
            "\u001b[0;31mAttributeError\u001b[0m                            Traceback (most recent call last)",
            "\u001b[0;32m<ipython-input-3-98e2967c2f81>\u001b[0m in \u001b[0;36m<module>\u001b[0;34m\u001b[0m\n\u001b[1;32m     20\u001b[0m \u001b[0;32mimport\u001b[0m \u001b[0mtorchtext\u001b[0m\u001b[0;34m\u001b[0m\u001b[0;34m\u001b[0m\u001b[0m\n\u001b[1;32m     21\u001b[0m \u001b[0;34m\u001b[0m\u001b[0m\n\u001b[0;32m---> 22\u001b[0;31m \u001b[0msrc_field\u001b[0m \u001b[0;34m=\u001b[0m \u001b[0mtorchtext\u001b[0m\u001b[0;34m.\u001b[0m\u001b[0mdata\u001b[0m\u001b[0;34m.\u001b[0m\u001b[0mField\u001b[0m\u001b[0;34m(\u001b[0m\u001b[0minit_token\u001b[0m\u001b[0;34m=\u001b[0m\u001b[0;34m'<sos>'\u001b[0m\u001b[0;34m,\u001b[0m \u001b[0meos_token\u001b[0m\u001b[0;34m=\u001b[0m\u001b[0;34m'<eos>'\u001b[0m\u001b[0;34m,\u001b[0m \u001b[0mlower\u001b[0m\u001b[0;34m=\u001b[0m\u001b[0;32mTrue\u001b[0m\u001b[0;34m)\u001b[0m\u001b[0;34m\u001b[0m\u001b[0;34m\u001b[0m\u001b[0m\n\u001b[0m\u001b[1;32m     23\u001b[0m \u001b[0mtgt_field\u001b[0m \u001b[0;34m=\u001b[0m \u001b[0mtorchtext\u001b[0m\u001b[0;34m.\u001b[0m\u001b[0mdata\u001b[0m\u001b[0;34m.\u001b[0m\u001b[0mField\u001b[0m\u001b[0;34m(\u001b[0m\u001b[0minit_token\u001b[0m\u001b[0;34m=\u001b[0m\u001b[0;34m'<sos>'\u001b[0m\u001b[0;34m,\u001b[0m \u001b[0meos_token\u001b[0m\u001b[0;34m=\u001b[0m\u001b[0;34m'<eos>'\u001b[0m\u001b[0;34m,\u001b[0m \u001b[0mlower\u001b[0m\u001b[0;34m=\u001b[0m\u001b[0;32mTrue\u001b[0m\u001b[0;34m)\u001b[0m\u001b[0;34m\u001b[0m\u001b[0;34m\u001b[0m\u001b[0m\n\u001b[1;32m     24\u001b[0m \u001b[0;34m\u001b[0m\u001b[0m\n",
            "\u001b[0;31mAttributeError\u001b[0m: module 'torchtext.data' has no attribute 'Field'"
          ]
        }
      ]
    },
    {
      "cell_type": "code",
      "source": [],
      "metadata": {
        "id": "G4WjeTnUMXGE"
      },
      "execution_count": null,
      "outputs": []
    }
  ]
}