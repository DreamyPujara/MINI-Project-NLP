{
  "nbformat": 4,
  "nbformat_minor": 0,
  "metadata": {
    "colab": {
      "provenance": []
    },
    "kernelspec": {
      "name": "python3",
      "display_name": "Python 3"
    },
    "language_info": {
      "name": "python"
    }
  },
  "cells": [
    {
      "cell_type": "code",
      "execution_count": 2,
      "metadata": {
        "colab": {
          "base_uri": "https://localhost:8080/"
        },
        "id": "Tle_b4fG6WCw",
        "outputId": "ed7959dd-807f-4560-bbee-526b01e0f3ce"
      },
      "outputs": [
        {
          "output_type": "stream",
          "name": "stderr",
          "text": [
            "[nltk_data] Downloading package punkt to /root/nltk_data...\n",
            "[nltk_data]   Unzipping tokenizers/punkt.zip.\n"
          ]
        }
      ],
      "source": [
        "import nltk\n",
        "nltk.download('punkt')\n",
        "\n",
        "# Read the source language data\n",
        "with open('/content/drive/MyDrive/fr-en/europarl-v7.fr-en.en', 'r') as f:\n",
        "    source_data = f.readlines()\n",
        "\n",
        "# Read the target language data\n",
        "with open('/content/drive/MyDrive/fr-en/europarl-v7.fr-en.fr', 'r') as f:\n",
        "    target_data = f.readlines()\n",
        "\n",
        "# Tokenize the source language data\n",
        "source_tokens = []\n",
        "for line in source_data:\n",
        "    tokens = nltk.word_tokenize(line.strip())\n",
        "    source_tokens.append(tokens)\n",
        "\n",
        "# Tokenize the target language data\n",
        "target_tokens = []\n",
        "for line in target_data:\n",
        "    tokens = nltk.word_tokenize(line.strip())\n",
        "    target_tokens.append(tokens)\n",
        "\n",
        "# Ensure that corresponding sentences are aligned with each other\n",
        "assert len(source_tokens) == len(target_tokens)\n",
        "\n",
        "# Save the tokenized data to a file\n",
        "with open('tokenized_data.txt', 'w') as f:\n",
        "    for i in range(len(source_tokens)):\n",
        "        source_line = ' '.join(source_tokens[i])\n",
        "        target_line = ' '.join(target_tokens[i])\n",
        "        f.write(source_line + '\\t' + target_line + '\\n')\n",
        "\n",
        "    \n"
      ]
    },
    {
      "cell_type": "code",
      "source": [
        "\n"
      ],
      "metadata": {
        "colab": {
          "base_uri": "https://localhost:8080/",
          "height": 209
        },
        "id": "9PigDUKWCqqX",
        "outputId": "2069437f-ea79-4d79-a56e-df35d2bcb06e"
      },
      "execution_count": 2,
      "outputs": [
        {
          "output_type": "error",
          "ename": "NameError",
          "evalue": "ignored",
          "traceback": [
            "\u001b[0;31m---------------------------------------------------------------------------\u001b[0m",
            "\u001b[0;31mNameError\u001b[0m                                 Traceback (most recent call last)",
            "\u001b[0;32m<ipython-input-2-6f181058b4e7>\u001b[0m in \u001b[0;36m<module>\u001b[0;34m\u001b[0m\n\u001b[1;32m      1\u001b[0m \u001b[0;31m# Print the first 5 tokenized sentences\u001b[0m\u001b[0;34m\u001b[0m\u001b[0;34m\u001b[0m\u001b[0;34m\u001b[0m\u001b[0m\n\u001b[0;32m----> 2\u001b[0;31m \u001b[0;32mfor\u001b[0m \u001b[0mtokens\u001b[0m \u001b[0;32min\u001b[0m \u001b[0mtokenized_data\u001b[0m\u001b[0;34m[\u001b[0m\u001b[0;34m:\u001b[0m\u001b[0;36m5\u001b[0m\u001b[0;34m]\u001b[0m\u001b[0;34m:\u001b[0m\u001b[0;34m\u001b[0m\u001b[0;34m\u001b[0m\u001b[0m\n\u001b[0m\u001b[1;32m      3\u001b[0m     \u001b[0mprint\u001b[0m\u001b[0;34m(\u001b[0m\u001b[0mtokens\u001b[0m\u001b[0;34m)\u001b[0m\u001b[0;34m\u001b[0m\u001b[0;34m\u001b[0m\u001b[0m\n",
            "\u001b[0;31mNameError\u001b[0m: name 'tokenized_data' is not defined"
          ]
        }
      ]
    },
    {
      "cell_type": "code",
      "source": [],
      "metadata": {
        "id": "b_IaMUazDSKi"
      },
      "execution_count": null,
      "outputs": []
    }
  ]
}